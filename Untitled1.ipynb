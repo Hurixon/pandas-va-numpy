{
  "nbformat": 4,
  "nbformat_minor": 0,
  "metadata": {
    "colab": {
      "provenance": []
    },
    "kernelspec": {
      "name": "python3",
      "display_name": "Python 3"
    },
    "language_info": {
      "name": "python"
    }
  },
  "cells": [
    {
      "cell_type": "code",
      "source": [
        "import pandas as pd\n",
        "\n",
        "# 1. DataFrame yaratish\n",
        "data = {\n",
        "    'Ism': ['Ali', 'Wali', 'Sardar','Salim','Karim','Ilyos'],\n",
        "    'Yoshi': [25, 30, 22, 40, 27, 32],\n",
        "    'Shahar':['Toshkent','Fargona','Namangan','Samarqand','Buxoro','Xorazm']\n",
        "}\n",
        "df = pd.DataFrame(data)\n",
        "\n",
        "# 2. Ma'lumotlarni ko'rish\n",
        "print(df)\n",
        "\n",
        "# 3. Filtrlash\n",
        "young_people =df[df['Yoshi']<30]\n",
        "print(\"30 yoshdan kichiklar:\\n\", young_people)\n",
        "\n",
        "# 4. O'zgartirish\n",
        "df['Yoshi'] += 1 # Har bir shaxsning yoshini 1 ga oshirish\n",
        "print(\"Yangilangan DataFrame:\\n\", df)\n",
        "\n",
        "# 5. CSV Formatda saqlash\n",
        "df.to_csv('data.csv', index=False)"
      ],
      "metadata": {
        "colab": {
          "base_uri": "https://localhost:8080/"
        },
        "id": "Wi-CHyQRi4fW",
        "outputId": "eaa1b25e-2004-4547-b057-56c8ea39939b"
      },
      "execution_count": 1,
      "outputs": [
        {
          "output_type": "stream",
          "name": "stdout",
          "text": [
            "      Ism  Yoshi     Shahar\n",
            "0     Ali     25   Toshkent\n",
            "1    Wali     30    Fargona\n",
            "2  Sardar     22   Namangan\n",
            "3   Salim     40  Samarqand\n",
            "4   Karim     27     Buxoro\n",
            "5   Ilyos     32     Xorazm\n",
            "30 yoshdan kichiklar:\n",
            "       Ism  Yoshi    Shahar\n",
            "0     Ali     25  Toshkent\n",
            "2  Sardar     22  Namangan\n",
            "4   Karim     27    Buxoro\n",
            "Yangilangan DataFrame:\n",
            "       Ism  Yoshi     Shahar\n",
            "0     Ali     26   Toshkent\n",
            "1    Wali     31    Fargona\n",
            "2  Sardar     23   Namangan\n",
            "3   Salim     41  Samarqand\n",
            "4   Karim     28     Buxoro\n",
            "5   Ilyos     33     Xorazm\n"
          ]
        }
      ]
    },
    {
      "cell_type": "code",
      "execution_count": null,
      "metadata": {
        "id": "gSOv0j0Yi2tZ"
      },
      "outputs": [],
      "source": []
    }
  ]
}